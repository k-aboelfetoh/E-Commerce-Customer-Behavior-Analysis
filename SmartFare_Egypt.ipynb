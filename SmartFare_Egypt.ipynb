{
  "nbformat": 4,
  "nbformat_minor": 0,
  "metadata": {
    "colab": {
      "provenance": [],
      "authorship_tag": "ABX9TyMKLosPfbo1/E8rt9i/wOwI"
    },
    "kernelspec": {
      "name": "python3",
      "display_name": "Python 3"
    },
    "language_info": {
      "name": "python"
    },
    "widgets": {
      "application/vnd.jupyter.widget-state+json": {
        "81fe1d7f3df84508b776ef55134d0cec": {
          "model_module": "@jupyter-widgets/controls",
          "model_name": "HBoxModel",
          "model_module_version": "1.5.0",
          "state": {
            "_dom_classes": [],
            "_model_module": "@jupyter-widgets/controls",
            "_model_module_version": "1.5.0",
            "_model_name": "HBoxModel",
            "_view_count": null,
            "_view_module": "@jupyter-widgets/controls",
            "_view_module_version": "1.5.0",
            "_view_name": "HBoxView",
            "box_style": "",
            "children": [
              "IPY_MODEL_cfd0c0fed28f4201bead8d443920b8f2",
              "IPY_MODEL_8da5453f714845c589722fb0efe94ba7",
              "IPY_MODEL_10b4a432d63f4558b131f6ba589aaf62"
            ],
            "layout": "IPY_MODEL_b008c4de9b3c416a98e53d21f659454f"
          }
        },
        "cfd0c0fed28f4201bead8d443920b8f2": {
          "model_module": "@jupyter-widgets/controls",
          "model_name": "HTMLModel",
          "model_module_version": "1.5.0",
          "state": {
            "_dom_classes": [],
            "_model_module": "@jupyter-widgets/controls",
            "_model_module_version": "1.5.0",
            "_model_name": "HTMLModel",
            "_view_count": null,
            "_view_module": "@jupyter-widgets/controls",
            "_view_module_version": "1.5.0",
            "_view_name": "HTMLView",
            "description": "",
            "description_tooltip": null,
            "layout": "IPY_MODEL_ce546d9b174a4a52a7a1bc6646d8c96e",
            "placeholder": "​",
            "style": "IPY_MODEL_d14dc846d8eb4695b289696acd89864b",
            "value": "Summarize dataset: 100%"
          }
        },
        "8da5453f714845c589722fb0efe94ba7": {
          "model_module": "@jupyter-widgets/controls",
          "model_name": "FloatProgressModel",
          "model_module_version": "1.5.0",
          "state": {
            "_dom_classes": [],
            "_model_module": "@jupyter-widgets/controls",
            "_model_module_version": "1.5.0",
            "_model_name": "FloatProgressModel",
            "_view_count": null,
            "_view_module": "@jupyter-widgets/controls",
            "_view_module_version": "1.5.0",
            "_view_name": "ProgressView",
            "bar_style": "success",
            "description": "",
            "description_tooltip": null,
            "layout": "IPY_MODEL_af215075d03948aab7c09eac8546b069",
            "max": 5,
            "min": 0,
            "orientation": "horizontal",
            "style": "IPY_MODEL_6ff5e779b28c417a93a8d996cdb34b53",
            "value": 5
          }
        },
        "10b4a432d63f4558b131f6ba589aaf62": {
          "model_module": "@jupyter-widgets/controls",
          "model_name": "HTMLModel",
          "model_module_version": "1.5.0",
          "state": {
            "_dom_classes": [],
            "_model_module": "@jupyter-widgets/controls",
            "_model_module_version": "1.5.0",
            "_model_name": "HTMLModel",
            "_view_count": null,
            "_view_module": "@jupyter-widgets/controls",
            "_view_module_version": "1.5.0",
            "_view_name": "HTMLView",
            "description": "",
            "description_tooltip": null,
            "layout": "IPY_MODEL_87bb50568aa7492fb7ce2972c1b6d0c1",
            "placeholder": "​",
            "style": "IPY_MODEL_f2a9b5e70f8049dd81fcfb75d6546dc2",
            "value": " 143/143 [00:22&lt;00:00,  5.34it/s, Completed]"
          }
        },
        "b008c4de9b3c416a98e53d21f659454f": {
          "model_module": "@jupyter-widgets/base",
          "model_name": "LayoutModel",
          "model_module_version": "1.2.0",
          "state": {
            "_model_module": "@jupyter-widgets/base",
            "_model_module_version": "1.2.0",
            "_model_name": "LayoutModel",
            "_view_count": null,
            "_view_module": "@jupyter-widgets/base",
            "_view_module_version": "1.2.0",
            "_view_name": "LayoutView",
            "align_content": null,
            "align_items": null,
            "align_self": null,
            "border": null,
            "bottom": null,
            "display": null,
            "flex": null,
            "flex_flow": null,
            "grid_area": null,
            "grid_auto_columns": null,
            "grid_auto_flow": null,
            "grid_auto_rows": null,
            "grid_column": null,
            "grid_gap": null,
            "grid_row": null,
            "grid_template_areas": null,
            "grid_template_columns": null,
            "grid_template_rows": null,
            "height": null,
            "justify_content": null,
            "justify_items": null,
            "left": null,
            "margin": null,
            "max_height": null,
            "max_width": null,
            "min_height": null,
            "min_width": null,
            "object_fit": null,
            "object_position": null,
            "order": null,
            "overflow": null,
            "overflow_x": null,
            "overflow_y": null,
            "padding": null,
            "right": null,
            "top": null,
            "visibility": null,
            "width": null
          }
        },
        "ce546d9b174a4a52a7a1bc6646d8c96e": {
          "model_module": "@jupyter-widgets/base",
          "model_name": "LayoutModel",
          "model_module_version": "1.2.0",
          "state": {
            "_model_module": "@jupyter-widgets/base",
            "_model_module_version": "1.2.0",
            "_model_name": "LayoutModel",
            "_view_count": null,
            "_view_module": "@jupyter-widgets/base",
            "_view_module_version": "1.2.0",
            "_view_name": "LayoutView",
            "align_content": null,
            "align_items": null,
            "align_self": null,
            "border": null,
            "bottom": null,
            "display": null,
            "flex": null,
            "flex_flow": null,
            "grid_area": null,
            "grid_auto_columns": null,
            "grid_auto_flow": null,
            "grid_auto_rows": null,
            "grid_column": null,
            "grid_gap": null,
            "grid_row": null,
            "grid_template_areas": null,
            "grid_template_columns": null,
            "grid_template_rows": null,
            "height": null,
            "justify_content": null,
            "justify_items": null,
            "left": null,
            "margin": null,
            "max_height": null,
            "max_width": null,
            "min_height": null,
            "min_width": null,
            "object_fit": null,
            "object_position": null,
            "order": null,
            "overflow": null,
            "overflow_x": null,
            "overflow_y": null,
            "padding": null,
            "right": null,
            "top": null,
            "visibility": null,
            "width": null
          }
        },
        "d14dc846d8eb4695b289696acd89864b": {
          "model_module": "@jupyter-widgets/controls",
          "model_name": "DescriptionStyleModel",
          "model_module_version": "1.5.0",
          "state": {
            "_model_module": "@jupyter-widgets/controls",
            "_model_module_version": "1.5.0",
            "_model_name": "DescriptionStyleModel",
            "_view_count": null,
            "_view_module": "@jupyter-widgets/base",
            "_view_module_version": "1.2.0",
            "_view_name": "StyleView",
            "description_width": ""
          }
        },
        "af215075d03948aab7c09eac8546b069": {
          "model_module": "@jupyter-widgets/base",
          "model_name": "LayoutModel",
          "model_module_version": "1.2.0",
          "state": {
            "_model_module": "@jupyter-widgets/base",
            "_model_module_version": "1.2.0",
            "_model_name": "LayoutModel",
            "_view_count": null,
            "_view_module": "@jupyter-widgets/base",
            "_view_module_version": "1.2.0",
            "_view_name": "LayoutView",
            "align_content": null,
            "align_items": null,
            "align_self": null,
            "border": null,
            "bottom": null,
            "display": null,
            "flex": null,
            "flex_flow": null,
            "grid_area": null,
            "grid_auto_columns": null,
            "grid_auto_flow": null,
            "grid_auto_rows": null,
            "grid_column": null,
            "grid_gap": null,
            "grid_row": null,
            "grid_template_areas": null,
            "grid_template_columns": null,
            "grid_template_rows": null,
            "height": null,
            "justify_content": null,
            "justify_items": null,
            "left": null,
            "margin": null,
            "max_height": null,
            "max_width": null,
            "min_height": null,
            "min_width": null,
            "object_fit": null,
            "object_position": null,
            "order": null,
            "overflow": null,
            "overflow_x": null,
            "overflow_y": null,
            "padding": null,
            "right": null,
            "top": null,
            "visibility": null,
            "width": null
          }
        },
        "6ff5e779b28c417a93a8d996cdb34b53": {
          "model_module": "@jupyter-widgets/controls",
          "model_name": "ProgressStyleModel",
          "model_module_version": "1.5.0",
          "state": {
            "_model_module": "@jupyter-widgets/controls",
            "_model_module_version": "1.5.0",
            "_model_name": "ProgressStyleModel",
            "_view_count": null,
            "_view_module": "@jupyter-widgets/base",
            "_view_module_version": "1.2.0",
            "_view_name": "StyleView",
            "bar_color": null,
            "description_width": ""
          }
        },
        "87bb50568aa7492fb7ce2972c1b6d0c1": {
          "model_module": "@jupyter-widgets/base",
          "model_name": "LayoutModel",
          "model_module_version": "1.2.0",
          "state": {
            "_model_module": "@jupyter-widgets/base",
            "_model_module_version": "1.2.0",
            "_model_name": "LayoutModel",
            "_view_count": null,
            "_view_module": "@jupyter-widgets/base",
            "_view_module_version": "1.2.0",
            "_view_name": "LayoutView",
            "align_content": null,
            "align_items": null,
            "align_self": null,
            "border": null,
            "bottom": null,
            "display": null,
            "flex": null,
            "flex_flow": null,
            "grid_area": null,
            "grid_auto_columns": null,
            "grid_auto_flow": null,
            "grid_auto_rows": null,
            "grid_column": null,
            "grid_gap": null,
            "grid_row": null,
            "grid_template_areas": null,
            "grid_template_columns": null,
            "grid_template_rows": null,
            "height": null,
            "justify_content": null,
            "justify_items": null,
            "left": null,
            "margin": null,
            "max_height": null,
            "max_width": null,
            "min_height": null,
            "min_width": null,
            "object_fit": null,
            "object_position": null,
            "order": null,
            "overflow": null,
            "overflow_x": null,
            "overflow_y": null,
            "padding": null,
            "right": null,
            "top": null,
            "visibility": null,
            "width": null
          }
        },
        "f2a9b5e70f8049dd81fcfb75d6546dc2": {
          "model_module": "@jupyter-widgets/controls",
          "model_name": "DescriptionStyleModel",
          "model_module_version": "1.5.0",
          "state": {
            "_model_module": "@jupyter-widgets/controls",
            "_model_module_version": "1.5.0",
            "_model_name": "DescriptionStyleModel",
            "_view_count": null,
            "_view_module": "@jupyter-widgets/base",
            "_view_module_version": "1.2.0",
            "_view_name": "StyleView",
            "description_width": ""
          }
        },
        "d151ed82a7cd4fd1a268b36479ca4866": {
          "model_module": "@jupyter-widgets/controls",
          "model_name": "HBoxModel",
          "model_module_version": "1.5.0",
          "state": {
            "_dom_classes": [],
            "_model_module": "@jupyter-widgets/controls",
            "_model_module_version": "1.5.0",
            "_model_name": "HBoxModel",
            "_view_count": null,
            "_view_module": "@jupyter-widgets/controls",
            "_view_module_version": "1.5.0",
            "_view_name": "HBoxView",
            "box_style": "",
            "children": [
              "IPY_MODEL_b52f908245a4481996c61f666aff9b1c",
              "IPY_MODEL_d8b31287a32f499d820ccfc8ec0ea5bf",
              "IPY_MODEL_aa9aa0e12f8340228414acc114a22661"
            ],
            "layout": "IPY_MODEL_805f5256dc4f444985796350b32fdafb"
          }
        },
        "b52f908245a4481996c61f666aff9b1c": {
          "model_module": "@jupyter-widgets/controls",
          "model_name": "HTMLModel",
          "model_module_version": "1.5.0",
          "state": {
            "_dom_classes": [],
            "_model_module": "@jupyter-widgets/controls",
            "_model_module_version": "1.5.0",
            "_model_name": "HTMLModel",
            "_view_count": null,
            "_view_module": "@jupyter-widgets/controls",
            "_view_module_version": "1.5.0",
            "_view_name": "HTMLView",
            "description": "",
            "description_tooltip": null,
            "layout": "IPY_MODEL_5e1857d4c0ce432995830b6b6d1fbe65",
            "placeholder": "​",
            "style": "IPY_MODEL_f1f5e5eb2009490ba4ee3a6f0a8d9b90",
            "value": "Generate report structure: 100%"
          }
        },
        "d8b31287a32f499d820ccfc8ec0ea5bf": {
          "model_module": "@jupyter-widgets/controls",
          "model_name": "FloatProgressModel",
          "model_module_version": "1.5.0",
          "state": {
            "_dom_classes": [],
            "_model_module": "@jupyter-widgets/controls",
            "_model_module_version": "1.5.0",
            "_model_name": "FloatProgressModel",
            "_view_count": null,
            "_view_module": "@jupyter-widgets/controls",
            "_view_module_version": "1.5.0",
            "_view_name": "ProgressView",
            "bar_style": "success",
            "description": "",
            "description_tooltip": null,
            "layout": "IPY_MODEL_100cfc62ecea4a9a82a49faa7cf4aad4",
            "max": 1,
            "min": 0,
            "orientation": "horizontal",
            "style": "IPY_MODEL_28808fbc5d3c408a89024fbcedec0d1d",
            "value": 1
          }
        },
        "aa9aa0e12f8340228414acc114a22661": {
          "model_module": "@jupyter-widgets/controls",
          "model_name": "HTMLModel",
          "model_module_version": "1.5.0",
          "state": {
            "_dom_classes": [],
            "_model_module": "@jupyter-widgets/controls",
            "_model_module_version": "1.5.0",
            "_model_name": "HTMLModel",
            "_view_count": null,
            "_view_module": "@jupyter-widgets/controls",
            "_view_module_version": "1.5.0",
            "_view_name": "HTMLView",
            "description": "",
            "description_tooltip": null,
            "layout": "IPY_MODEL_1e115d11f75a4baaab2a84e0b6a7c442",
            "placeholder": "​",
            "style": "IPY_MODEL_c2195c8435c343ea9d8d8fedafabf93d",
            "value": " 1/1 [00:03&lt;00:00,  3.85s/it]"
          }
        },
        "805f5256dc4f444985796350b32fdafb": {
          "model_module": "@jupyter-widgets/base",
          "model_name": "LayoutModel",
          "model_module_version": "1.2.0",
          "state": {
            "_model_module": "@jupyter-widgets/base",
            "_model_module_version": "1.2.0",
            "_model_name": "LayoutModel",
            "_view_count": null,
            "_view_module": "@jupyter-widgets/base",
            "_view_module_version": "1.2.0",
            "_view_name": "LayoutView",
            "align_content": null,
            "align_items": null,
            "align_self": null,
            "border": null,
            "bottom": null,
            "display": null,
            "flex": null,
            "flex_flow": null,
            "grid_area": null,
            "grid_auto_columns": null,
            "grid_auto_flow": null,
            "grid_auto_rows": null,
            "grid_column": null,
            "grid_gap": null,
            "grid_row": null,
            "grid_template_areas": null,
            "grid_template_columns": null,
            "grid_template_rows": null,
            "height": null,
            "justify_content": null,
            "justify_items": null,
            "left": null,
            "margin": null,
            "max_height": null,
            "max_width": null,
            "min_height": null,
            "min_width": null,
            "object_fit": null,
            "object_position": null,
            "order": null,
            "overflow": null,
            "overflow_x": null,
            "overflow_y": null,
            "padding": null,
            "right": null,
            "top": null,
            "visibility": null,
            "width": null
          }
        },
        "5e1857d4c0ce432995830b6b6d1fbe65": {
          "model_module": "@jupyter-widgets/base",
          "model_name": "LayoutModel",
          "model_module_version": "1.2.0",
          "state": {
            "_model_module": "@jupyter-widgets/base",
            "_model_module_version": "1.2.0",
            "_model_name": "LayoutModel",
            "_view_count": null,
            "_view_module": "@jupyter-widgets/base",
            "_view_module_version": "1.2.0",
            "_view_name": "LayoutView",
            "align_content": null,
            "align_items": null,
            "align_self": null,
            "border": null,
            "bottom": null,
            "display": null,
            "flex": null,
            "flex_flow": null,
            "grid_area": null,
            "grid_auto_columns": null,
            "grid_auto_flow": null,
            "grid_auto_rows": null,
            "grid_column": null,
            "grid_gap": null,
            "grid_row": null,
            "grid_template_areas": null,
            "grid_template_columns": null,
            "grid_template_rows": null,
            "height": null,
            "justify_content": null,
            "justify_items": null,
            "left": null,
            "margin": null,
            "max_height": null,
            "max_width": null,
            "min_height": null,
            "min_width": null,
            "object_fit": null,
            "object_position": null,
            "order": null,
            "overflow": null,
            "overflow_x": null,
            "overflow_y": null,
            "padding": null,
            "right": null,
            "top": null,
            "visibility": null,
            "width": null
          }
        },
        "f1f5e5eb2009490ba4ee3a6f0a8d9b90": {
          "model_module": "@jupyter-widgets/controls",
          "model_name": "DescriptionStyleModel",
          "model_module_version": "1.5.0",
          "state": {
            "_model_module": "@jupyter-widgets/controls",
            "_model_module_version": "1.5.0",
            "_model_name": "DescriptionStyleModel",
            "_view_count": null,
            "_view_module": "@jupyter-widgets/base",
            "_view_module_version": "1.2.0",
            "_view_name": "StyleView",
            "description_width": ""
          }
        },
        "100cfc62ecea4a9a82a49faa7cf4aad4": {
          "model_module": "@jupyter-widgets/base",
          "model_name": "LayoutModel",
          "model_module_version": "1.2.0",
          "state": {
            "_model_module": "@jupyter-widgets/base",
            "_model_module_version": "1.2.0",
            "_model_name": "LayoutModel",
            "_view_count": null,
            "_view_module": "@jupyter-widgets/base",
            "_view_module_version": "1.2.0",
            "_view_name": "LayoutView",
            "align_content": null,
            "align_items": null,
            "align_self": null,
            "border": null,
            "bottom": null,
            "display": null,
            "flex": null,
            "flex_flow": null,
            "grid_area": null,
            "grid_auto_columns": null,
            "grid_auto_flow": null,
            "grid_auto_rows": null,
            "grid_column": null,
            "grid_gap": null,
            "grid_row": null,
            "grid_template_areas": null,
            "grid_template_columns": null,
            "grid_template_rows": null,
            "height": null,
            "justify_content": null,
            "justify_items": null,
            "left": null,
            "margin": null,
            "max_height": null,
            "max_width": null,
            "min_height": null,
            "min_width": null,
            "object_fit": null,
            "object_position": null,
            "order": null,
            "overflow": null,
            "overflow_x": null,
            "overflow_y": null,
            "padding": null,
            "right": null,
            "top": null,
            "visibility": null,
            "width": null
          }
        },
        "28808fbc5d3c408a89024fbcedec0d1d": {
          "model_module": "@jupyter-widgets/controls",
          "model_name": "ProgressStyleModel",
          "model_module_version": "1.5.0",
          "state": {
            "_model_module": "@jupyter-widgets/controls",
            "_model_module_version": "1.5.0",
            "_model_name": "ProgressStyleModel",
            "_view_count": null,
            "_view_module": "@jupyter-widgets/base",
            "_view_module_version": "1.2.0",
            "_view_name": "StyleView",
            "bar_color": null,
            "description_width": ""
          }
        },
        "1e115d11f75a4baaab2a84e0b6a7c442": {
          "model_module": "@jupyter-widgets/base",
          "model_name": "LayoutModel",
          "model_module_version": "1.2.0",
          "state": {
            "_model_module": "@jupyter-widgets/base",
            "_model_module_version": "1.2.0",
            "_model_name": "LayoutModel",
            "_view_count": null,
            "_view_module": "@jupyter-widgets/base",
            "_view_module_version": "1.2.0",
            "_view_name": "LayoutView",
            "align_content": null,
            "align_items": null,
            "align_self": null,
            "border": null,
            "bottom": null,
            "display": null,
            "flex": null,
            "flex_flow": null,
            "grid_area": null,
            "grid_auto_columns": null,
            "grid_auto_flow": null,
            "grid_auto_rows": null,
            "grid_column": null,
            "grid_gap": null,
            "grid_row": null,
            "grid_template_areas": null,
            "grid_template_columns": null,
            "grid_template_rows": null,
            "height": null,
            "justify_content": null,
            "justify_items": null,
            "left": null,
            "margin": null,
            "max_height": null,
            "max_width": null,
            "min_height": null,
            "min_width": null,
            "object_fit": null,
            "object_position": null,
            "order": null,
            "overflow": null,
            "overflow_x": null,
            "overflow_y": null,
            "padding": null,
            "right": null,
            "top": null,
            "visibility": null,
            "width": null
          }
        },
        "c2195c8435c343ea9d8d8fedafabf93d": {
          "model_module": "@jupyter-widgets/controls",
          "model_name": "DescriptionStyleModel",
          "model_module_version": "1.5.0",
          "state": {
            "_model_module": "@jupyter-widgets/controls",
            "_model_module_version": "1.5.0",
            "_model_name": "DescriptionStyleModel",
            "_view_count": null,
            "_view_module": "@jupyter-widgets/base",
            "_view_module_version": "1.2.0",
            "_view_name": "StyleView",
            "description_width": ""
          }
        },
        "dd71f332c1944dc3be5b97b578cb5d3c": {
          "model_module": "@jupyter-widgets/controls",
          "model_name": "HBoxModel",
          "model_module_version": "1.5.0",
          "state": {
            "_dom_classes": [],
            "_model_module": "@jupyter-widgets/controls",
            "_model_module_version": "1.5.0",
            "_model_name": "HBoxModel",
            "_view_count": null,
            "_view_module": "@jupyter-widgets/controls",
            "_view_module_version": "1.5.0",
            "_view_name": "HBoxView",
            "box_style": "",
            "children": [
              "IPY_MODEL_db60b7e86172451eace8a9a6f018dc20",
              "IPY_MODEL_6200cb1c5949409db6130f413257b5f9",
              "IPY_MODEL_99a013f25ecf403487f2acb069b0a13e"
            ],
            "layout": "IPY_MODEL_798f2c40d5024aa59b88b58e200aa328"
          }
        },
        "db60b7e86172451eace8a9a6f018dc20": {
          "model_module": "@jupyter-widgets/controls",
          "model_name": "HTMLModel",
          "model_module_version": "1.5.0",
          "state": {
            "_dom_classes": [],
            "_model_module": "@jupyter-widgets/controls",
            "_model_module_version": "1.5.0",
            "_model_name": "HTMLModel",
            "_view_count": null,
            "_view_module": "@jupyter-widgets/controls",
            "_view_module_version": "1.5.0",
            "_view_name": "HTMLView",
            "description": "",
            "description_tooltip": null,
            "layout": "IPY_MODEL_b4a0a974426f4414aaea26e6ddb6d688",
            "placeholder": "​",
            "style": "IPY_MODEL_b5ee0a95dbb14e4a9cd489d6894cde5b",
            "value": "Render HTML: 100%"
          }
        },
        "6200cb1c5949409db6130f413257b5f9": {
          "model_module": "@jupyter-widgets/controls",
          "model_name": "FloatProgressModel",
          "model_module_version": "1.5.0",
          "state": {
            "_dom_classes": [],
            "_model_module": "@jupyter-widgets/controls",
            "_model_module_version": "1.5.0",
            "_model_name": "FloatProgressModel",
            "_view_count": null,
            "_view_module": "@jupyter-widgets/controls",
            "_view_module_version": "1.5.0",
            "_view_name": "ProgressView",
            "bar_style": "success",
            "description": "",
            "description_tooltip": null,
            "layout": "IPY_MODEL_309ab7dfc6444a1485368a9a43cb5aa3",
            "max": 1,
            "min": 0,
            "orientation": "horizontal",
            "style": "IPY_MODEL_9cfadfe98fbd44768093409dc559b019",
            "value": 1
          }
        },
        "99a013f25ecf403487f2acb069b0a13e": {
          "model_module": "@jupyter-widgets/controls",
          "model_name": "HTMLModel",
          "model_module_version": "1.5.0",
          "state": {
            "_dom_classes": [],
            "_model_module": "@jupyter-widgets/controls",
            "_model_module_version": "1.5.0",
            "_model_name": "HTMLModel",
            "_view_count": null,
            "_view_module": "@jupyter-widgets/controls",
            "_view_module_version": "1.5.0",
            "_view_name": "HTMLView",
            "description": "",
            "description_tooltip": null,
            "layout": "IPY_MODEL_99ffef62b0554e11a56d8a2af7fc4721",
            "placeholder": "​",
            "style": "IPY_MODEL_af867c20ef454682aaee4faeee5fd5f7",
            "value": " 1/1 [00:04&lt;00:00,  4.10s/it]"
          }
        },
        "798f2c40d5024aa59b88b58e200aa328": {
          "model_module": "@jupyter-widgets/base",
          "model_name": "LayoutModel",
          "model_module_version": "1.2.0",
          "state": {
            "_model_module": "@jupyter-widgets/base",
            "_model_module_version": "1.2.0",
            "_model_name": "LayoutModel",
            "_view_count": null,
            "_view_module": "@jupyter-widgets/base",
            "_view_module_version": "1.2.0",
            "_view_name": "LayoutView",
            "align_content": null,
            "align_items": null,
            "align_self": null,
            "border": null,
            "bottom": null,
            "display": null,
            "flex": null,
            "flex_flow": null,
            "grid_area": null,
            "grid_auto_columns": null,
            "grid_auto_flow": null,
            "grid_auto_rows": null,
            "grid_column": null,
            "grid_gap": null,
            "grid_row": null,
            "grid_template_areas": null,
            "grid_template_columns": null,
            "grid_template_rows": null,
            "height": null,
            "justify_content": null,
            "justify_items": null,
            "left": null,
            "margin": null,
            "max_height": null,
            "max_width": null,
            "min_height": null,
            "min_width": null,
            "object_fit": null,
            "object_position": null,
            "order": null,
            "overflow": null,
            "overflow_x": null,
            "overflow_y": null,
            "padding": null,
            "right": null,
            "top": null,
            "visibility": null,
            "width": null
          }
        },
        "b4a0a974426f4414aaea26e6ddb6d688": {
          "model_module": "@jupyter-widgets/base",
          "model_name": "LayoutModel",
          "model_module_version": "1.2.0",
          "state": {
            "_model_module": "@jupyter-widgets/base",
            "_model_module_version": "1.2.0",
            "_model_name": "LayoutModel",
            "_view_count": null,
            "_view_module": "@jupyter-widgets/base",
            "_view_module_version": "1.2.0",
            "_view_name": "LayoutView",
            "align_content": null,
            "align_items": null,
            "align_self": null,
            "border": null,
            "bottom": null,
            "display": null,
            "flex": null,
            "flex_flow": null,
            "grid_area": null,
            "grid_auto_columns": null,
            "grid_auto_flow": null,
            "grid_auto_rows": null,
            "grid_column": null,
            "grid_gap": null,
            "grid_row": null,
            "grid_template_areas": null,
            "grid_template_columns": null,
            "grid_template_rows": null,
            "height": null,
            "justify_content": null,
            "justify_items": null,
            "left": null,
            "margin": null,
            "max_height": null,
            "max_width": null,
            "min_height": null,
            "min_width": null,
            "object_fit": null,
            "object_position": null,
            "order": null,
            "overflow": null,
            "overflow_x": null,
            "overflow_y": null,
            "padding": null,
            "right": null,
            "top": null,
            "visibility": null,
            "width": null
          }
        },
        "b5ee0a95dbb14e4a9cd489d6894cde5b": {
          "model_module": "@jupyter-widgets/controls",
          "model_name": "DescriptionStyleModel",
          "model_module_version": "1.5.0",
          "state": {
            "_model_module": "@jupyter-widgets/controls",
            "_model_module_version": "1.5.0",
            "_model_name": "DescriptionStyleModel",
            "_view_count": null,
            "_view_module": "@jupyter-widgets/base",
            "_view_module_version": "1.2.0",
            "_view_name": "StyleView",
            "description_width": ""
          }
        },
        "309ab7dfc6444a1485368a9a43cb5aa3": {
          "model_module": "@jupyter-widgets/base",
          "model_name": "LayoutModel",
          "model_module_version": "1.2.0",
          "state": {
            "_model_module": "@jupyter-widgets/base",
            "_model_module_version": "1.2.0",
            "_model_name": "LayoutModel",
            "_view_count": null,
            "_view_module": "@jupyter-widgets/base",
            "_view_module_version": "1.2.0",
            "_view_name": "LayoutView",
            "align_content": null,
            "align_items": null,
            "align_self": null,
            "border": null,
            "bottom": null,
            "display": null,
            "flex": null,
            "flex_flow": null,
            "grid_area": null,
            "grid_auto_columns": null,
            "grid_auto_flow": null,
            "grid_auto_rows": null,
            "grid_column": null,
            "grid_gap": null,
            "grid_row": null,
            "grid_template_areas": null,
            "grid_template_columns": null,
            "grid_template_rows": null,
            "height": null,
            "justify_content": null,
            "justify_items": null,
            "left": null,
            "margin": null,
            "max_height": null,
            "max_width": null,
            "min_height": null,
            "min_width": null,
            "object_fit": null,
            "object_position": null,
            "order": null,
            "overflow": null,
            "overflow_x": null,
            "overflow_y": null,
            "padding": null,
            "right": null,
            "top": null,
            "visibility": null,
            "width": null
          }
        },
        "9cfadfe98fbd44768093409dc559b019": {
          "model_module": "@jupyter-widgets/controls",
          "model_name": "ProgressStyleModel",
          "model_module_version": "1.5.0",
          "state": {
            "_model_module": "@jupyter-widgets/controls",
            "_model_module_version": "1.5.0",
            "_model_name": "ProgressStyleModel",
            "_view_count": null,
            "_view_module": "@jupyter-widgets/base",
            "_view_module_version": "1.2.0",
            "_view_name": "StyleView",
            "bar_color": null,
            "description_width": ""
          }
        },
        "99ffef62b0554e11a56d8a2af7fc4721": {
          "model_module": "@jupyter-widgets/base",
          "model_name": "LayoutModel",
          "model_module_version": "1.2.0",
          "state": {
            "_model_module": "@jupyter-widgets/base",
            "_model_module_version": "1.2.0",
            "_model_name": "LayoutModel",
            "_view_count": null,
            "_view_module": "@jupyter-widgets/base",
            "_view_module_version": "1.2.0",
            "_view_name": "LayoutView",
            "align_content": null,
            "align_items": null,
            "align_self": null,
            "border": null,
            "bottom": null,
            "display": null,
            "flex": null,
            "flex_flow": null,
            "grid_area": null,
            "grid_auto_columns": null,
            "grid_auto_flow": null,
            "grid_auto_rows": null,
            "grid_column": null,
            "grid_gap": null,
            "grid_row": null,
            "grid_template_areas": null,
            "grid_template_columns": null,
            "grid_template_rows": null,
            "height": null,
            "justify_content": null,
            "justify_items": null,
            "left": null,
            "margin": null,
            "max_height": null,
            "max_width": null,
            "min_height": null,
            "min_width": null,
            "object_fit": null,
            "object_position": null,
            "order": null,
            "overflow": null,
            "overflow_x": null,
            "overflow_y": null,
            "padding": null,
            "right": null,
            "top": null,
            "visibility": null,
            "width": null
          }
        },
        "af867c20ef454682aaee4faeee5fd5f7": {
          "model_module": "@jupyter-widgets/controls",
          "model_name": "DescriptionStyleModel",
          "model_module_version": "1.5.0",
          "state": {
            "_model_module": "@jupyter-widgets/controls",
            "_model_module_version": "1.5.0",
            "_model_name": "DescriptionStyleModel",
            "_view_count": null,
            "_view_module": "@jupyter-widgets/base",
            "_view_module_version": "1.2.0",
            "_view_name": "StyleView",
            "description_width": ""
          }
        },
        "c890a10b81fe455ba715c0e1d89ee6da": {
          "model_module": "@jupyter-widgets/controls",
          "model_name": "HBoxModel",
          "model_module_version": "1.5.0",
          "state": {
            "_dom_classes": [],
            "_model_module": "@jupyter-widgets/controls",
            "_model_module_version": "1.5.0",
            "_model_name": "HBoxModel",
            "_view_count": null,
            "_view_module": "@jupyter-widgets/controls",
            "_view_module_version": "1.5.0",
            "_view_name": "HBoxView",
            "box_style": "",
            "children": [
              "IPY_MODEL_577bddc5f6074b6eb6aa9743521a4546",
              "IPY_MODEL_779743641d8f47d290d741b79a7ce40c",
              "IPY_MODEL_2382f23863a347d78ae80d643cfe60e8"
            ],
            "layout": "IPY_MODEL_76b4b267b8894c48845eb4dfc5f014e9"
          }
        },
        "577bddc5f6074b6eb6aa9743521a4546": {
          "model_module": "@jupyter-widgets/controls",
          "model_name": "HTMLModel",
          "model_module_version": "1.5.0",
          "state": {
            "_dom_classes": [],
            "_model_module": "@jupyter-widgets/controls",
            "_model_module_version": "1.5.0",
            "_model_name": "HTMLModel",
            "_view_count": null,
            "_view_module": "@jupyter-widgets/controls",
            "_view_module_version": "1.5.0",
            "_view_name": "HTMLView",
            "description": "",
            "description_tooltip": null,
            "layout": "IPY_MODEL_69f66e21629e4a9fa0f30f9674980b18",
            "placeholder": "​",
            "style": "IPY_MODEL_f08a7f15798a47d89142d37ef8891c10",
            "value": "Export report to file: 100%"
          }
        },
        "779743641d8f47d290d741b79a7ce40c": {
          "model_module": "@jupyter-widgets/controls",
          "model_name": "FloatProgressModel",
          "model_module_version": "1.5.0",
          "state": {
            "_dom_classes": [],
            "_model_module": "@jupyter-widgets/controls",
            "_model_module_version": "1.5.0",
            "_model_name": "FloatProgressModel",
            "_view_count": null,
            "_view_module": "@jupyter-widgets/controls",
            "_view_module_version": "1.5.0",
            "_view_name": "ProgressView",
            "bar_style": "success",
            "description": "",
            "description_tooltip": null,
            "layout": "IPY_MODEL_db03ac9479d34c8c9a77af9378af1e5e",
            "max": 1,
            "min": 0,
            "orientation": "horizontal",
            "style": "IPY_MODEL_1a7ac063674c4f01b77093cbe7d5fae2",
            "value": 1
          }
        },
        "2382f23863a347d78ae80d643cfe60e8": {
          "model_module": "@jupyter-widgets/controls",
          "model_name": "HTMLModel",
          "model_module_version": "1.5.0",
          "state": {
            "_dom_classes": [],
            "_model_module": "@jupyter-widgets/controls",
            "_model_module_version": "1.5.0",
            "_model_name": "HTMLModel",
            "_view_count": null,
            "_view_module": "@jupyter-widgets/controls",
            "_view_module_version": "1.5.0",
            "_view_name": "HTMLView",
            "description": "",
            "description_tooltip": null,
            "layout": "IPY_MODEL_bb43587171ac4e038642ef9a7666bfac",
            "placeholder": "​",
            "style": "IPY_MODEL_4ada135e84f7411484fb240922fb93f9",
            "value": " 1/1 [00:00&lt;00:00, 15.32it/s]"
          }
        },
        "76b4b267b8894c48845eb4dfc5f014e9": {
          "model_module": "@jupyter-widgets/base",
          "model_name": "LayoutModel",
          "model_module_version": "1.2.0",
          "state": {
            "_model_module": "@jupyter-widgets/base",
            "_model_module_version": "1.2.0",
            "_model_name": "LayoutModel",
            "_view_count": null,
            "_view_module": "@jupyter-widgets/base",
            "_view_module_version": "1.2.0",
            "_view_name": "LayoutView",
            "align_content": null,
            "align_items": null,
            "align_self": null,
            "border": null,
            "bottom": null,
            "display": null,
            "flex": null,
            "flex_flow": null,
            "grid_area": null,
            "grid_auto_columns": null,
            "grid_auto_flow": null,
            "grid_auto_rows": null,
            "grid_column": null,
            "grid_gap": null,
            "grid_row": null,
            "grid_template_areas": null,
            "grid_template_columns": null,
            "grid_template_rows": null,
            "height": null,
            "justify_content": null,
            "justify_items": null,
            "left": null,
            "margin": null,
            "max_height": null,
            "max_width": null,
            "min_height": null,
            "min_width": null,
            "object_fit": null,
            "object_position": null,
            "order": null,
            "overflow": null,
            "overflow_x": null,
            "overflow_y": null,
            "padding": null,
            "right": null,
            "top": null,
            "visibility": null,
            "width": null
          }
        },
        "69f66e21629e4a9fa0f30f9674980b18": {
          "model_module": "@jupyter-widgets/base",
          "model_name": "LayoutModel",
          "model_module_version": "1.2.0",
          "state": {
            "_model_module": "@jupyter-widgets/base",
            "_model_module_version": "1.2.0",
            "_model_name": "LayoutModel",
            "_view_count": null,
            "_view_module": "@jupyter-widgets/base",
            "_view_module_version": "1.2.0",
            "_view_name": "LayoutView",
            "align_content": null,
            "align_items": null,
            "align_self": null,
            "border": null,
            "bottom": null,
            "display": null,
            "flex": null,
            "flex_flow": null,
            "grid_area": null,
            "grid_auto_columns": null,
            "grid_auto_flow": null,
            "grid_auto_rows": null,
            "grid_column": null,
            "grid_gap": null,
            "grid_row": null,
            "grid_template_areas": null,
            "grid_template_columns": null,
            "grid_template_rows": null,
            "height": null,
            "justify_content": null,
            "justify_items": null,
            "left": null,
            "margin": null,
            "max_height": null,
            "max_width": null,
            "min_height": null,
            "min_width": null,
            "object_fit": null,
            "object_position": null,
            "order": null,
            "overflow": null,
            "overflow_x": null,
            "overflow_y": null,
            "padding": null,
            "right": null,
            "top": null,
            "visibility": null,
            "width": null
          }
        },
        "f08a7f15798a47d89142d37ef8891c10": {
          "model_module": "@jupyter-widgets/controls",
          "model_name": "DescriptionStyleModel",
          "model_module_version": "1.5.0",
          "state": {
            "_model_module": "@jupyter-widgets/controls",
            "_model_module_version": "1.5.0",
            "_model_name": "DescriptionStyleModel",
            "_view_count": null,
            "_view_module": "@jupyter-widgets/base",
            "_view_module_version": "1.2.0",
            "_view_name": "StyleView",
            "description_width": ""
          }
        },
        "db03ac9479d34c8c9a77af9378af1e5e": {
          "model_module": "@jupyter-widgets/base",
          "model_name": "LayoutModel",
          "model_module_version": "1.2.0",
          "state": {
            "_model_module": "@jupyter-widgets/base",
            "_model_module_version": "1.2.0",
            "_model_name": "LayoutModel",
            "_view_count": null,
            "_view_module": "@jupyter-widgets/base",
            "_view_module_version": "1.2.0",
            "_view_name": "LayoutView",
            "align_content": null,
            "align_items": null,
            "align_self": null,
            "border": null,
            "bottom": null,
            "display": null,
            "flex": null,
            "flex_flow": null,
            "grid_area": null,
            "grid_auto_columns": null,
            "grid_auto_flow": null,
            "grid_auto_rows": null,
            "grid_column": null,
            "grid_gap": null,
            "grid_row": null,
            "grid_template_areas": null,
            "grid_template_columns": null,
            "grid_template_rows": null,
            "height": null,
            "justify_content": null,
            "justify_items": null,
            "left": null,
            "margin": null,
            "max_height": null,
            "max_width": null,
            "min_height": null,
            "min_width": null,
            "object_fit": null,
            "object_position": null,
            "order": null,
            "overflow": null,
            "overflow_x": null,
            "overflow_y": null,
            "padding": null,
            "right": null,
            "top": null,
            "visibility": null,
            "width": null
          }
        },
        "1a7ac063674c4f01b77093cbe7d5fae2": {
          "model_module": "@jupyter-widgets/controls",
          "model_name": "ProgressStyleModel",
          "model_module_version": "1.5.0",
          "state": {
            "_model_module": "@jupyter-widgets/controls",
            "_model_module_version": "1.5.0",
            "_model_name": "ProgressStyleModel",
            "_view_count": null,
            "_view_module": "@jupyter-widgets/base",
            "_view_module_version": "1.2.0",
            "_view_name": "StyleView",
            "bar_color": null,
            "description_width": ""
          }
        },
        "bb43587171ac4e038642ef9a7666bfac": {
          "model_module": "@jupyter-widgets/base",
          "model_name": "LayoutModel",
          "model_module_version": "1.2.0",
          "state": {
            "_model_module": "@jupyter-widgets/base",
            "_model_module_version": "1.2.0",
            "_model_name": "LayoutModel",
            "_view_count": null,
            "_view_module": "@jupyter-widgets/base",
            "_view_module_version": "1.2.0",
            "_view_name": "LayoutView",
            "align_content": null,
            "align_items": null,
            "align_self": null,
            "border": null,
            "bottom": null,
            "display": null,
            "flex": null,
            "flex_flow": null,
            "grid_area": null,
            "grid_auto_columns": null,
            "grid_auto_flow": null,
            "grid_auto_rows": null,
            "grid_column": null,
            "grid_gap": null,
            "grid_row": null,
            "grid_template_areas": null,
            "grid_template_columns": null,
            "grid_template_rows": null,
            "height": null,
            "justify_content": null,
            "justify_items": null,
            "left": null,
            "margin": null,
            "max_height": null,
            "max_width": null,
            "min_height": null,
            "min_width": null,
            "object_fit": null,
            "object_position": null,
            "order": null,
            "overflow": null,
            "overflow_x": null,
            "overflow_y": null,
            "padding": null,
            "right": null,
            "top": null,
            "visibility": null,
            "width": null
          }
        },
        "4ada135e84f7411484fb240922fb93f9": {
          "model_module": "@jupyter-widgets/controls",
          "model_name": "DescriptionStyleModel",
          "model_module_version": "1.5.0",
          "state": {
            "_model_module": "@jupyter-widgets/controls",
            "_model_module_version": "1.5.0",
            "_model_name": "DescriptionStyleModel",
            "_view_count": null,
            "_view_module": "@jupyter-widgets/base",
            "_view_module_version": "1.2.0",
            "_view_name": "StyleView",
            "description_width": ""
          }
        }
      }
    }
  },
  "cells": [
    {
      "cell_type": "markdown",
      "source": [
        "# **🚕 SmartFare Egypt – Intelligent Ride Fare Estimator**\n",
        "A Machine Learning project that predicts ride-hailing fares in Egypt, comparing Uber, Careem, and InDrive prices based on trip details."
      ],
      "metadata": {
        "id": "VkEeFkfijDgR"
      }
    },
    {
      "cell_type": "markdown",
      "source": [
        "# **🌟 Overview**\n",
        "*   🌐 Streamlit-based web app\n",
        "*   🗺️ Interactive map input using geolocation\n",
        "*   📊 Real-time fare comparison\n",
        "*   🤖 Machine learning model trained on Egyptian ride data"
      ],
      "metadata": {
        "id": "KKPsKt7MjIHf"
      }
    },
    {
      "cell_type": "markdown",
      "source": [
        "# **📦 Import Required Libraries**\n",
        "We start by importing all the necessary Python libraries for data processing, visualization, and model training."
      ],
      "metadata": {
        "id": "F04Z--A7jXo-"
      }
    },
    {
      "cell_type": "code",
      "execution_count": 1,
      "metadata": {
        "id": "Lk5Wiu7d6sui"
      },
      "outputs": [],
      "source": [
        "import pandas as pd\n",
        "import numpy as np\n",
        "import matplotlib.pyplot as plt\n",
        "import seaborn as sns\n",
        "from math import radians, sin, cos, sqrt, atan2\n",
        "import random\n",
        "from sklearn.model_selection import train_test_split\n",
        "from sklearn.metrics import mean_absolute_error, mean_squared_error, r2_score\n",
        "from sklearn.model_selection import train_test_split"
      ]
    },
    {
      "cell_type": "markdown",
      "source": [
        "# **🚕 Define Pricing Models & City Coordinates**\n",
        "Here, we store fare structures for Uber, Careem, and InDrive, as well as coordinates for Egyptian cities."
      ],
      "metadata": {
        "id": "Egfm3SQcja9u"
      }
    },
    {
      "cell_type": "code",
      "source": [
        "PRICING_MODEL = {\n",
        "    'UberX': {\n",
        "        'base_fare': 9.75,\n",
        "        'per_km': 3.10,\n",
        "        'per_minute': 0.45,\n",
        "        'min_fare': 17.50,\n",
        "    },\n",
        "    'UberComfort': {\n",
        "        'base_fare': 13.00,\n",
        "        'per_km': 4.50,\n",
        "        'per_minute': 0.60,\n",
        "        'min_fare': 25.00,\n",
        "    },\n",
        "    'CareemGo': {\n",
        "        'base_fare': 7.70,\n",
        "        'per_km': 2.80,\n",
        "        'per_minute': 0.77,\n",
        "        'min_fare': 10.00,\n",
        "    },\n",
        "    'InDrive': {\n",
        "        'base_fare': 8.00,\n",
        "        'per_km': 2.50,\n",
        "        'per_minute': 0.40,\n",
        "        'min_fare': 15.00,\n",
        "    }\n",
        "}"
      ],
      "metadata": {
        "id": "RdRg-FwRHeMp"
      },
      "execution_count": 2,
      "outputs": []
    },
    {
      "cell_type": "code",
      "source": [
        "CITIES_COORDS = {\n",
        "    'Cairo': {\n",
        "        'lat_min': 29.9, 'lat_max': 30.2,\n",
        "        'lon_min': 31.1, 'lon_max': 31.4\n",
        "    },\n",
        "    'Alexandria': {\n",
        "        'lat_min': 31.1, 'lat_max': 31.3,\n",
        "        'lon_min': 29.8, 'lon_max': 30.1\n",
        "    }\n",
        "}"
      ],
      "metadata": {
        "id": "2V5qeJIPHjNU"
      },
      "execution_count": 3,
      "outputs": []
    },
    {
      "cell_type": "markdown",
      "source": [
        "# **📏 Calculate Haversine Distance**\n",
        "This function calculates the great-circle distance between two points using their latitude and longitude."
      ],
      "metadata": {
        "id": "oJeuPinajea-"
      }
    },
    {
      "cell_type": "code",
      "source": [
        "def haversine_distance(lat1, lon1, lat2, lon2):\n",
        "    R = 6371\n",
        "    lat1_rad, lon1_rad, lat2_rad, lon2_rad = map(radians, [lat1, lon1, lat2, lon2])\n",
        "\n",
        "    dlon = lon2_rad - lon1_rad\n",
        "    dlat = lat2_rad - lat1_rad\n",
        "\n",
        "    a = sin(dlat / 2)**2 + cos(lat1_rad) * cos(lat2_rad) * sin(dlon / 2)**2\n",
        "    c = 2 * atan2(sqrt(a), sqrt(1 - a))\n",
        "    distance = R * c\n",
        "    return distance"
      ],
      "metadata": {
        "id": "bPMz7Ga_HpUg"
      },
      "execution_count": 4,
      "outputs": []
    },
    {
      "cell_type": "markdown",
      "source": [
        "# **🛠️ Generate Synthetic Ride Data**\n",
        "We create a dataset of rides with random start and end points, times, and fare calculations."
      ],
      "metadata": {
        "id": "6Z0-rzCPjjOn"
      }
    },
    {
      "cell_type": "code",
      "source": [
        "def generate_ride_data(num_trips, pricing_model, cities_coords):\n",
        "    data = []\n",
        "\n",
        "    for city, coords in cities_coords.items():\n",
        "        print(f\"Generating {num_trips} trips for {city}...\")\n",
        "        for _ in range(num_trips):\n",
        "            start_lat = random.uniform(coords['lat_min'], coords['lat_max'])\n",
        "            start_lon = random.uniform(coords['lon_min'], coords['lon_max'])\n",
        "            end_lat = random.uniform(coords['lat_min'], coords['lat_max'])\n",
        "            end_lon = random.uniform(coords['lon_min'], coords['lon_max'])\n",
        "            distance_km = haversine_distance(start_lat, start_lon, end_lat, end_lon)\n",
        "\n",
        "            if distance_km < 0.5:\n",
        "                continue\n",
        "\n",
        "\n",
        "            trip_hour = random.randint(0, 23)\n",
        "            is_peak_hour = 1 if trip_hour in [7, 8, 9, 17, 18, 19] else 0\n",
        "\n",
        "            avg_speed = 25\n",
        "            trip_duration_minutes = (distance_km / avg_speed) * 60\n",
        "\n",
        "            if is_peak_hour:\n",
        "                trip_duration_minutes *= random.uniform(1.2, 1.5)\n",
        "\n",
        "            prices = {}\n",
        "            for service, model in pricing_model.items():\n",
        "                price = (model['base_fare'] +\n",
        "                         (model['per_km'] * distance_km) +\n",
        "                         (model['per_minute'] * trip_duration_minutes))\n",
        "\n",
        "                prices[f'price_{service}'] = max(price, model['min_fare'])\n",
        "\n",
        "            trip_data = {\n",
        "                'city': city,\n",
        "                'start_lat': start_lat,\n",
        "                'start_lon': start_lon,\n",
        "                'end_lat': end_lat,\n",
        "                'end_lon': end_lon,\n",
        "                'distance_km': distance_km,\n",
        "                'trip_duration_minutes': trip_duration_minutes,\n",
        "                'trip_hour': trip_hour,\n",
        "                'is_peak_hour': is_peak_hour,\n",
        "                **prices\n",
        "            }\n",
        "            data.append(trip_data)\n",
        "\n",
        "    return pd.DataFrame(data)"
      ],
      "metadata": {
        "id": "MucsN9qjHndt"
      },
      "execution_count": 5,
      "outputs": []
    },
    {
      "cell_type": "markdown",
      "source": [
        "# **📂 Create and Save Dataset**\n",
        "We generate 50,000 trips per city and save the dataset as a CSV file."
      ],
      "metadata": {
        "id": "LdR_F5J9jmxW"
      }
    },
    {
      "cell_type": "code",
      "source": [
        "num_trips_per_city = 50000\n",
        "df_rides = generate_ride_data(num_trips_per_city, PRICING_MODEL, CITIES_COORDS)"
      ],
      "metadata": {
        "colab": {
          "base_uri": "https://localhost:8080/"
        },
        "id": "wtbJgvTKHxnD",
        "outputId": "c156908c-d10e-4892-afe6-983b5df58397"
      },
      "execution_count": 6,
      "outputs": [
        {
          "output_type": "stream",
          "name": "stdout",
          "text": [
            "Generating 50000 trips for Cairo...\n",
            "Generating 50000 trips for Alexandria...\n"
          ]
        }
      ]
    },
    {
      "cell_type": "code",
      "source": [
        "print(\"\\nFirst 5 rows of the generated DataFrame:\")\n",
        "df_rides.head()"
      ],
      "metadata": {
        "colab": {
          "base_uri": "https://localhost:8080/",
          "height": 262
        },
        "id": "tRAgLa5dH2Sr",
        "outputId": "56fe26bf-f478-45f7-e912-bf67c6d5b2bd"
      },
      "execution_count": 7,
      "outputs": [
        {
          "output_type": "stream",
          "name": "stdout",
          "text": [
            "\n",
            "First 5 rows of the generated DataFrame:\n"
          ]
        },
        {
          "output_type": "execute_result",
          "data": {
            "text/plain": [
              "    city  start_lat  start_lon    end_lat    end_lon  distance_km  \\\n",
              "0  Cairo  30.163932  31.284800  30.155945  31.169499    11.120867   \n",
              "1  Cairo  29.996758  31.257297  30.088551  31.139219    15.276193   \n",
              "2  Cairo  30.041627  31.311223  29.965415  31.188964    14.505710   \n",
              "3  Cairo  30.154205  31.167239  30.140310  31.289977    11.902546   \n",
              "4  Cairo  30.195411  31.177986  30.038307  31.367090    25.219080   \n",
              "\n",
              "   trip_duration_minutes  trip_hour  is_peak_hour  price_UberX  \\\n",
              "0              26.690080          6             0    56.235223   \n",
              "1              36.662862         13             0    73.604485   \n",
              "2              34.813704         22             0    70.383867   \n",
              "3              28.566110          2             0    59.502641   \n",
              "4              60.525792          6             0   115.165755   \n",
              "\n",
              "   price_UberComfort  price_CareemGo  price_InDrive  \n",
              "0          79.057949       59.389789      46.478199  \n",
              "1         103.740585       78.703744      60.855627  \n",
              "2          99.163916       75.122539      58.189756  \n",
              "3          83.701121       63.023032      49.182808  \n",
              "4         162.801336      124.918285      95.258017  "
            ],
            "text/html": [
              "\n",
              "  <div id=\"df-6a7a0cc0-eab9-46a0-89d6-daf217b27c51\" class=\"colab-df-container\">\n",
              "    <div>\n",
              "<style scoped>\n",
              "    .dataframe tbody tr th:only-of-type {\n",
              "        vertical-align: middle;\n",
              "    }\n",
              "\n",
              "    .dataframe tbody tr th {\n",
              "        vertical-align: top;\n",
              "    }\n",
              "\n",
              "    .dataframe thead th {\n",
              "        text-align: right;\n",
              "    }\n",
              "</style>\n",
              "<table border=\"1\" class=\"dataframe\">\n",
              "  <thead>\n",
              "    <tr style=\"text-align: right;\">\n",
              "      <th></th>\n",
              "      <th>city</th>\n",
              "      <th>start_lat</th>\n",
              "      <th>start_lon</th>\n",
              "      <th>end_lat</th>\n",
              "      <th>end_lon</th>\n",
              "      <th>distance_km</th>\n",
              "      <th>trip_duration_minutes</th>\n",
              "      <th>trip_hour</th>\n",
              "      <th>is_peak_hour</th>\n",
              "      <th>price_UberX</th>\n",
              "      <th>price_UberComfort</th>\n",
              "      <th>price_CareemGo</th>\n",
              "      <th>price_InDrive</th>\n",
              "    </tr>\n",
              "  </thead>\n",
              "  <tbody>\n",
              "    <tr>\n",
              "      <th>0</th>\n",
              "      <td>Cairo</td>\n",
              "      <td>30.163932</td>\n",
              "      <td>31.284800</td>\n",
              "      <td>30.155945</td>\n",
              "      <td>31.169499</td>\n",
              "      <td>11.120867</td>\n",
              "      <td>26.690080</td>\n",
              "      <td>6</td>\n",
              "      <td>0</td>\n",
              "      <td>56.235223</td>\n",
              "      <td>79.057949</td>\n",
              "      <td>59.389789</td>\n",
              "      <td>46.478199</td>\n",
              "    </tr>\n",
              "    <tr>\n",
              "      <th>1</th>\n",
              "      <td>Cairo</td>\n",
              "      <td>29.996758</td>\n",
              "      <td>31.257297</td>\n",
              "      <td>30.088551</td>\n",
              "      <td>31.139219</td>\n",
              "      <td>15.276193</td>\n",
              "      <td>36.662862</td>\n",
              "      <td>13</td>\n",
              "      <td>0</td>\n",
              "      <td>73.604485</td>\n",
              "      <td>103.740585</td>\n",
              "      <td>78.703744</td>\n",
              "      <td>60.855627</td>\n",
              "    </tr>\n",
              "    <tr>\n",
              "      <th>2</th>\n",
              "      <td>Cairo</td>\n",
              "      <td>30.041627</td>\n",
              "      <td>31.311223</td>\n",
              "      <td>29.965415</td>\n",
              "      <td>31.188964</td>\n",
              "      <td>14.505710</td>\n",
              "      <td>34.813704</td>\n",
              "      <td>22</td>\n",
              "      <td>0</td>\n",
              "      <td>70.383867</td>\n",
              "      <td>99.163916</td>\n",
              "      <td>75.122539</td>\n",
              "      <td>58.189756</td>\n",
              "    </tr>\n",
              "    <tr>\n",
              "      <th>3</th>\n",
              "      <td>Cairo</td>\n",
              "      <td>30.154205</td>\n",
              "      <td>31.167239</td>\n",
              "      <td>30.140310</td>\n",
              "      <td>31.289977</td>\n",
              "      <td>11.902546</td>\n",
              "      <td>28.566110</td>\n",
              "      <td>2</td>\n",
              "      <td>0</td>\n",
              "      <td>59.502641</td>\n",
              "      <td>83.701121</td>\n",
              "      <td>63.023032</td>\n",
              "      <td>49.182808</td>\n",
              "    </tr>\n",
              "    <tr>\n",
              "      <th>4</th>\n",
              "      <td>Cairo</td>\n",
              "      <td>30.195411</td>\n",
              "      <td>31.177986</td>\n",
              "      <td>30.038307</td>\n",
              "      <td>31.367090</td>\n",
              "      <td>25.219080</td>\n",
              "      <td>60.525792</td>\n",
              "      <td>6</td>\n",
              "      <td>0</td>\n",
              "      <td>115.165755</td>\n",
              "      <td>162.801336</td>\n",
              "      <td>124.918285</td>\n",
              "      <td>95.258017</td>\n",
              "    </tr>\n",
              "  </tbody>\n",
              "</table>\n",
              "</div>\n",
              "    <div class=\"colab-df-buttons\">\n",
              "\n",
              "  <div class=\"colab-df-container\">\n",
              "    <button class=\"colab-df-convert\" onclick=\"convertToInteractive('df-6a7a0cc0-eab9-46a0-89d6-daf217b27c51')\"\n",
              "            title=\"Convert this dataframe to an interactive table.\"\n",
              "            style=\"display:none;\">\n",
              "\n",
              "  <svg xmlns=\"http://www.w3.org/2000/svg\" height=\"24px\" viewBox=\"0 -960 960 960\">\n",
              "    <path d=\"M120-120v-720h720v720H120Zm60-500h600v-160H180v160Zm220 220h160v-160H400v160Zm0 220h160v-160H400v160ZM180-400h160v-160H180v160Zm440 0h160v-160H620v160ZM180-180h160v-160H180v160Zm440 0h160v-160H620v160Z\"/>\n",
              "  </svg>\n",
              "    </button>\n",
              "\n",
              "  <style>\n",
              "    .colab-df-container {\n",
              "      display:flex;\n",
              "      gap: 12px;\n",
              "    }\n",
              "\n",
              "    .colab-df-convert {\n",
              "      background-color: #E8F0FE;\n",
              "      border: none;\n",
              "      border-radius: 50%;\n",
              "      cursor: pointer;\n",
              "      display: none;\n",
              "      fill: #1967D2;\n",
              "      height: 32px;\n",
              "      padding: 0 0 0 0;\n",
              "      width: 32px;\n",
              "    }\n",
              "\n",
              "    .colab-df-convert:hover {\n",
              "      background-color: #E2EBFA;\n",
              "      box-shadow: 0px 1px 2px rgba(60, 64, 67, 0.3), 0px 1px 3px 1px rgba(60, 64, 67, 0.15);\n",
              "      fill: #174EA6;\n",
              "    }\n",
              "\n",
              "    .colab-df-buttons div {\n",
              "      margin-bottom: 4px;\n",
              "    }\n",
              "\n",
              "    [theme=dark] .colab-df-convert {\n",
              "      background-color: #3B4455;\n",
              "      fill: #D2E3FC;\n",
              "    }\n",
              "\n",
              "    [theme=dark] .colab-df-convert:hover {\n",
              "      background-color: #434B5C;\n",
              "      box-shadow: 0px 1px 3px 1px rgba(0, 0, 0, 0.15);\n",
              "      filter: drop-shadow(0px 1px 2px rgba(0, 0, 0, 0.3));\n",
              "      fill: #FFFFFF;\n",
              "    }\n",
              "  </style>\n",
              "\n",
              "    <script>\n",
              "      const buttonEl =\n",
              "        document.querySelector('#df-6a7a0cc0-eab9-46a0-89d6-daf217b27c51 button.colab-df-convert');\n",
              "      buttonEl.style.display =\n",
              "        google.colab.kernel.accessAllowed ? 'block' : 'none';\n",
              "\n",
              "      async function convertToInteractive(key) {\n",
              "        const element = document.querySelector('#df-6a7a0cc0-eab9-46a0-89d6-daf217b27c51');\n",
              "        const dataTable =\n",
              "          await google.colab.kernel.invokeFunction('convertToInteractive',\n",
              "                                                    [key], {});\n",
              "        if (!dataTable) return;\n",
              "\n",
              "        const docLinkHtml = 'Like what you see? Visit the ' +\n",
              "          '<a target=\"_blank\" href=https://colab.research.google.com/notebooks/data_table.ipynb>data table notebook</a>'\n",
              "          + ' to learn more about interactive tables.';\n",
              "        element.innerHTML = '';\n",
              "        dataTable['output_type'] = 'display_data';\n",
              "        await google.colab.output.renderOutput(dataTable, element);\n",
              "        const docLink = document.createElement('div');\n",
              "        docLink.innerHTML = docLinkHtml;\n",
              "        element.appendChild(docLink);\n",
              "      }\n",
              "    </script>\n",
              "  </div>\n",
              "\n",
              "\n",
              "    <div id=\"df-ab313e61-a1e4-4255-bc7f-5ed8178b342a\">\n",
              "      <button class=\"colab-df-quickchart\" onclick=\"quickchart('df-ab313e61-a1e4-4255-bc7f-5ed8178b342a')\"\n",
              "                title=\"Suggest charts\"\n",
              "                style=\"display:none;\">\n",
              "\n",
              "<svg xmlns=\"http://www.w3.org/2000/svg\" height=\"24px\"viewBox=\"0 0 24 24\"\n",
              "     width=\"24px\">\n",
              "    <g>\n",
              "        <path d=\"M19 3H5c-1.1 0-2 .9-2 2v14c0 1.1.9 2 2 2h14c1.1 0 2-.9 2-2V5c0-1.1-.9-2-2-2zM9 17H7v-7h2v7zm4 0h-2V7h2v10zm4 0h-2v-4h2v4z\"/>\n",
              "    </g>\n",
              "</svg>\n",
              "      </button>\n",
              "\n",
              "<style>\n",
              "  .colab-df-quickchart {\n",
              "      --bg-color: #E8F0FE;\n",
              "      --fill-color: #1967D2;\n",
              "      --hover-bg-color: #E2EBFA;\n",
              "      --hover-fill-color: #174EA6;\n",
              "      --disabled-fill-color: #AAA;\n",
              "      --disabled-bg-color: #DDD;\n",
              "  }\n",
              "\n",
              "  [theme=dark] .colab-df-quickchart {\n",
              "      --bg-color: #3B4455;\n",
              "      --fill-color: #D2E3FC;\n",
              "      --hover-bg-color: #434B5C;\n",
              "      --hover-fill-color: #FFFFFF;\n",
              "      --disabled-bg-color: #3B4455;\n",
              "      --disabled-fill-color: #666;\n",
              "  }\n",
              "\n",
              "  .colab-df-quickchart {\n",
              "    background-color: var(--bg-color);\n",
              "    border: none;\n",
              "    border-radius: 50%;\n",
              "    cursor: pointer;\n",
              "    display: none;\n",
              "    fill: var(--fill-color);\n",
              "    height: 32px;\n",
              "    padding: 0;\n",
              "    width: 32px;\n",
              "  }\n",
              "\n",
              "  .colab-df-quickchart:hover {\n",
              "    background-color: var(--hover-bg-color);\n",
              "    box-shadow: 0 1px 2px rgba(60, 64, 67, 0.3), 0 1px 3px 1px rgba(60, 64, 67, 0.15);\n",
              "    fill: var(--button-hover-fill-color);\n",
              "  }\n",
              "\n",
              "  .colab-df-quickchart-complete:disabled,\n",
              "  .colab-df-quickchart-complete:disabled:hover {\n",
              "    background-color: var(--disabled-bg-color);\n",
              "    fill: var(--disabled-fill-color);\n",
              "    box-shadow: none;\n",
              "  }\n",
              "\n",
              "  .colab-df-spinner {\n",
              "    border: 2px solid var(--fill-color);\n",
              "    border-color: transparent;\n",
              "    border-bottom-color: var(--fill-color);\n",
              "    animation:\n",
              "      spin 1s steps(1) infinite;\n",
              "  }\n",
              "\n",
              "  @keyframes spin {\n",
              "    0% {\n",
              "      border-color: transparent;\n",
              "      border-bottom-color: var(--fill-color);\n",
              "      border-left-color: var(--fill-color);\n",
              "    }\n",
              "    20% {\n",
              "      border-color: transparent;\n",
              "      border-left-color: var(--fill-color);\n",
              "      border-top-color: var(--fill-color);\n",
              "    }\n",
              "    30% {\n",
              "      border-color: transparent;\n",
              "      border-left-color: var(--fill-color);\n",
              "      border-top-color: var(--fill-color);\n",
              "      border-right-color: var(--fill-color);\n",
              "    }\n",
              "    40% {\n",
              "      border-color: transparent;\n",
              "      border-right-color: var(--fill-color);\n",
              "      border-top-color: var(--fill-color);\n",
              "    }\n",
              "    60% {\n",
              "      border-color: transparent;\n",
              "      border-right-color: var(--fill-color);\n",
              "    }\n",
              "    80% {\n",
              "      border-color: transparent;\n",
              "      border-right-color: var(--fill-color);\n",
              "      border-bottom-color: var(--fill-color);\n",
              "    }\n",
              "    90% {\n",
              "      border-color: transparent;\n",
              "      border-bottom-color: var(--fill-color);\n",
              "    }\n",
              "  }\n",
              "</style>\n",
              "\n",
              "      <script>\n",
              "        async function quickchart(key) {\n",
              "          const quickchartButtonEl =\n",
              "            document.querySelector('#' + key + ' button');\n",
              "          quickchartButtonEl.disabled = true;  // To prevent multiple clicks.\n",
              "          quickchartButtonEl.classList.add('colab-df-spinner');\n",
              "          try {\n",
              "            const charts = await google.colab.kernel.invokeFunction(\n",
              "                'suggestCharts', [key], {});\n",
              "          } catch (error) {\n",
              "            console.error('Error during call to suggestCharts:', error);\n",
              "          }\n",
              "          quickchartButtonEl.classList.remove('colab-df-spinner');\n",
              "          quickchartButtonEl.classList.add('colab-df-quickchart-complete');\n",
              "        }\n",
              "        (() => {\n",
              "          let quickchartButtonEl =\n",
              "            document.querySelector('#df-ab313e61-a1e4-4255-bc7f-5ed8178b342a button');\n",
              "          quickchartButtonEl.style.display =\n",
              "            google.colab.kernel.accessAllowed ? 'block' : 'none';\n",
              "        })();\n",
              "      </script>\n",
              "    </div>\n",
              "\n",
              "    </div>\n",
              "  </div>\n"
            ],
            "application/vnd.google.colaboratory.intrinsic+json": {
              "type": "dataframe",
              "variable_name": "df_rides",
              "summary": "{\n  \"name\": \"df_rides\",\n  \"rows\": 99907,\n  \"fields\": [\n    {\n      \"column\": \"city\",\n      \"properties\": {\n        \"dtype\": \"category\",\n        \"num_unique_values\": 2,\n        \"samples\": [\n          \"Alexandria\",\n          \"Cairo\"\n        ],\n        \"semantic_type\": \"\",\n        \"description\": \"\"\n      }\n    },\n    {\n      \"column\": \"start_lat\",\n      \"properties\": {\n        \"dtype\": \"number\",\n        \"std\": 0.5795535498621951,\n        \"min\": 29.900000142234838,\n        \"max\": 31.2999989936565,\n        \"num_unique_values\": 99907,\n        \"samples\": [\n          29.934022082331865,\n          31.236481391968535\n        ],\n        \"semantic_type\": \"\",\n        \"description\": \"\"\n      }\n    },\n    {\n      \"column\": \"start_lon\",\n      \"properties\": {\n        \"dtype\": \"number\",\n        \"std\": 0.6555022206436955,\n        \"min\": 29.800001628734645,\n        \"max\": 31.399995795243488,\n        \"num_unique_values\": 99907,\n        \"samples\": [\n          31.363219912994815,\n          29.948387259398473\n        ],\n        \"semantic_type\": \"\",\n        \"description\": \"\"\n      }\n    },\n    {\n      \"column\": \"end_lat\",\n      \"properties\": {\n        \"dtype\": \"number\",\n        \"std\": 0.579619927735322,\n        \"min\": 29.900012539276684,\n        \"max\": 31.2999969686394,\n        \"num_unique_values\": 99907,\n        \"samples\": [\n          30.060725810212418,\n          31.2144703648842\n        ],\n        \"semantic_type\": \"\",\n        \"description\": \"\"\n      }\n    },\n    {\n      \"column\": \"end_lon\",\n      \"properties\": {\n        \"dtype\": \"number\",\n        \"std\": 0.6558863361248963,\n        \"min\": 29.800004306912125,\n        \"max\": 31.399998342562302,\n        \"num_unique_values\": 99907,\n        \"samples\": [\n          31.248727265137727,\n          30.093080585287016\n        ],\n        \"semantic_type\": \"\",\n        \"description\": \"\"\n      }\n    },\n    {\n      \"column\": \"distance_km\",\n      \"properties\": {\n        \"dtype\": \"number\",\n        \"std\": 7.272394718811821,\n        \"min\": 0.5005324772260566,\n        \"max\": 42.93144921230772,\n        \"num_unique_values\": 99907,\n        \"samples\": [\n          17.890213548096867,\n          13.974388967401158\n        ],\n        \"semantic_type\": \"\",\n        \"description\": \"\"\n      }\n    },\n    {\n      \"column\": \"trip_duration_minutes\",\n      \"properties\": {\n        \"dtype\": \"number\",\n        \"std\": 19.986640038676118,\n        \"min\": 1.249579073030112,\n        \"max\": 143.5651724466293,\n        \"num_unique_values\": 99907,\n        \"samples\": [\n          42.93651251543248,\n          33.53853352176278\n        ],\n        \"semantic_type\": \"\",\n        \"description\": \"\"\n      }\n    },\n    {\n      \"column\": \"trip_hour\",\n      \"properties\": {\n        \"dtype\": \"number\",\n        \"std\": 6,\n        \"min\": 0,\n        \"max\": 23,\n        \"num_unique_values\": 24,\n        \"samples\": [\n          7,\n          14\n        ],\n        \"semantic_type\": \"\",\n        \"description\": \"\"\n      }\n    },\n    {\n      \"column\": \"is_peak_hour\",\n      \"properties\": {\n        \"dtype\": \"number\",\n        \"std\": 0,\n        \"min\": 0,\n        \"max\": 1,\n        \"num_unique_values\": 2,\n        \"samples\": [\n          1,\n          0\n        ],\n        \"semantic_type\": \"\",\n        \"description\": \"\"\n      }\n    },\n    {\n      \"column\": \"price_UberX\",\n      \"properties\": {\n        \"dtype\": \"number\",\n        \"std\": 31.166433131851512,\n        \"min\": 17.5,\n        \"max\": 207.02884545134435,\n        \"num_unique_values\": 98751,\n        \"samples\": [\n          45.61046363442745,\n          95.0895151177868\n        ],\n        \"semantic_type\": \"\",\n        \"description\": \"\"\n      }\n    },\n    {\n      \"column\": \"price_UberComfort\",\n      \"properties\": {\n        \"dtype\": \"number\",\n        \"std\": 44.18486892072572,\n        \"min\": 25.0,\n        \"max\": 291.7799919796386,\n        \"num_unique_values\": 98521,\n        \"samples\": [\n          66.47184928538867,\n          88.26629302958969\n        ],\n        \"semantic_type\": \"\",\n        \"description\": \"\"\n      }\n    },\n    {\n      \"column\": \"price_CareemGo\",\n      \"properties\": {\n        \"dtype\": \"number\",\n        \"std\": 35.309440485421455,\n        \"min\": 10.120018138101651,\n        \"max\": 237.7465949672541,\n        \"num_unique_values\": 99907,\n        \"samples\": [\n          90.85371257155424,\n          72.65295992048058\n        ],\n        \"semantic_type\": \"\",\n        \"description\": \"\"\n      }\n    },\n    {\n      \"column\": \"price_InDrive\",\n      \"properties\": {\n        \"dtype\": \"number\",\n        \"std\": 25.842958084201175,\n        \"min\": 15.0,\n        \"max\": 172.3876033802719,\n        \"num_unique_values\": 98521,\n        \"samples\": [\n          39.146902108997445,\n          28.810745026316063\n        ],\n        \"semantic_type\": \"\",\n        \"description\": \"\"\n      }\n    }\n  ]\n}"
            }
          },
          "metadata": {},
          "execution_count": 7
        }
      ]
    },
    {
      "cell_type": "code",
      "source": [
        "df_rides.to_csv('egypt_rides_synthetic_data.csv', index=False)\n",
        "print(\"\\nData saved to 'egypt_rides_synthetic_data.csv'\")"
      ],
      "metadata": {
        "colab": {
          "base_uri": "https://localhost:8080/"
        },
        "id": "QEJ5BJHWH4dI",
        "outputId": "95d966a0-2a63-4bf0-9fc0-1339b59017bb"
      },
      "execution_count": 8,
      "outputs": [
        {
          "output_type": "stream",
          "name": "stdout",
          "text": [
            "\n",
            "Data saved to 'egypt_rides_synthetic_data.csv'\n"
          ]
        }
      ]
    },
    {
      "cell_type": "markdown",
      "source": [
        "# **📊 Exploratory Data Analysis**\n",
        "We use ydata_profiling to create a detailed report of the dataset, including statistics, distributions, and correlations."
      ],
      "metadata": {
        "id": "554SSI93jrN2"
      }
    },
    {
      "cell_type": "code",
      "source": [
        "#! pip install ydata_profiling"
      ],
      "metadata": {
        "id": "ge48fhqZlOfJ"
      },
      "execution_count": 9,
      "outputs": []
    },
    {
      "cell_type": "code",
      "source": [
        "from ydata_profiling import ProfileReport\n",
        "from google.colab import files\n",
        "\n",
        "profile = ProfileReport(pd.read_csv(\"egypt_rides_synthetic_data.csv\"), title=\"EDA Report - Egypt Rides\", explorative=True)\n",
        "profile.to_file(\"egypt_eda_report.html\")\n",
        "files.download(\"egypt_eda_report.html\")"
      ],
      "metadata": {
        "colab": {
          "base_uri": "https://localhost:8080/",
          "height": 346,
          "referenced_widgets": [
            "81fe1d7f3df84508b776ef55134d0cec",
            "cfd0c0fed28f4201bead8d443920b8f2",
            "8da5453f714845c589722fb0efe94ba7",
            "10b4a432d63f4558b131f6ba589aaf62",
            "b008c4de9b3c416a98e53d21f659454f",
            "ce546d9b174a4a52a7a1bc6646d8c96e",
            "d14dc846d8eb4695b289696acd89864b",
            "af215075d03948aab7c09eac8546b069",
            "6ff5e779b28c417a93a8d996cdb34b53",
            "87bb50568aa7492fb7ce2972c1b6d0c1",
            "f2a9b5e70f8049dd81fcfb75d6546dc2",
            "d151ed82a7cd4fd1a268b36479ca4866",
            "b52f908245a4481996c61f666aff9b1c",
            "d8b31287a32f499d820ccfc8ec0ea5bf",
            "aa9aa0e12f8340228414acc114a22661",
            "805f5256dc4f444985796350b32fdafb",
            "5e1857d4c0ce432995830b6b6d1fbe65",
            "f1f5e5eb2009490ba4ee3a6f0a8d9b90",
            "100cfc62ecea4a9a82a49faa7cf4aad4",
            "28808fbc5d3c408a89024fbcedec0d1d",
            "1e115d11f75a4baaab2a84e0b6a7c442",
            "c2195c8435c343ea9d8d8fedafabf93d",
            "dd71f332c1944dc3be5b97b578cb5d3c",
            "db60b7e86172451eace8a9a6f018dc20",
            "6200cb1c5949409db6130f413257b5f9",
            "99a013f25ecf403487f2acb069b0a13e",
            "798f2c40d5024aa59b88b58e200aa328",
            "b4a0a974426f4414aaea26e6ddb6d688",
            "b5ee0a95dbb14e4a9cd489d6894cde5b",
            "309ab7dfc6444a1485368a9a43cb5aa3",
            "9cfadfe98fbd44768093409dc559b019",
            "99ffef62b0554e11a56d8a2af7fc4721",
            "af867c20ef454682aaee4faeee5fd5f7",
            "c890a10b81fe455ba715c0e1d89ee6da",
            "577bddc5f6074b6eb6aa9743521a4546",
            "779743641d8f47d290d741b79a7ce40c",
            "2382f23863a347d78ae80d643cfe60e8",
            "76b4b267b8894c48845eb4dfc5f014e9",
            "69f66e21629e4a9fa0f30f9674980b18",
            "f08a7f15798a47d89142d37ef8891c10",
            "db03ac9479d34c8c9a77af9378af1e5e",
            "1a7ac063674c4f01b77093cbe7d5fae2",
            "bb43587171ac4e038642ef9a7666bfac",
            "4ada135e84f7411484fb240922fb93f9"
          ]
        },
        "id": "jlz53sm_H-bz",
        "outputId": "86583e7f-4186-49da-e1eb-f18d545cdfb7"
      },
      "execution_count": 11,
      "outputs": [
        {
          "output_type": "display_data",
          "data": {
            "text/plain": [
              "Summarize dataset:   0%|          | 0/5 [00:00<?, ?it/s]"
            ],
            "application/vnd.jupyter.widget-view+json": {
              "version_major": 2,
              "version_minor": 0,
              "model_id": "81fe1d7f3df84508b776ef55134d0cec"
            }
          },
          "metadata": {}
        },
        {
          "output_type": "stream",
          "name": "stderr",
          "text": [
            "\n",
            "  0%|          | 0/13 [00:00<?, ?it/s]\u001b[A\n",
            "  8%|▊         | 1/13 [00:00<00:03,  3.05it/s]\u001b[A\n",
            " 15%|█▌        | 2/13 [00:00<00:02,  4.54it/s]\u001b[A\n",
            " 23%|██▎       | 3/13 [00:00<00:02,  4.52it/s]\u001b[A\n",
            " 31%|███       | 4/13 [00:00<00:01,  4.95it/s]\u001b[A\n",
            " 38%|███▊      | 5/13 [00:01<00:01,  5.56it/s]\u001b[A\n",
            " 46%|████▌     | 6/13 [00:01<00:01,  4.92it/s]\u001b[A\n",
            " 54%|█████▍    | 7/13 [00:01<00:01,  4.65it/s]\u001b[A\n",
            " 77%|███████▋  | 10/13 [00:01<00:00,  6.72it/s]\u001b[A\n",
            "100%|██████████| 13/13 [00:02<00:00,  6.02it/s]\n"
          ]
        },
        {
          "output_type": "display_data",
          "data": {
            "text/plain": [
              "Generate report structure:   0%|          | 0/1 [00:00<?, ?it/s]"
            ],
            "application/vnd.jupyter.widget-view+json": {
              "version_major": 2,
              "version_minor": 0,
              "model_id": "d151ed82a7cd4fd1a268b36479ca4866"
            }
          },
          "metadata": {}
        },
        {
          "output_type": "display_data",
          "data": {
            "text/plain": [
              "Render HTML:   0%|          | 0/1 [00:00<?, ?it/s]"
            ],
            "application/vnd.jupyter.widget-view+json": {
              "version_major": 2,
              "version_minor": 0,
              "model_id": "dd71f332c1944dc3be5b97b578cb5d3c"
            }
          },
          "metadata": {}
        },
        {
          "output_type": "display_data",
          "data": {
            "text/plain": [
              "Export report to file:   0%|          | 0/1 [00:00<?, ?it/s]"
            ],
            "application/vnd.jupyter.widget-view+json": {
              "version_major": 2,
              "version_minor": 0,
              "model_id": "c890a10b81fe455ba715c0e1d89ee6da"
            }
          },
          "metadata": {}
        },
        {
          "output_type": "display_data",
          "data": {
            "text/plain": [
              "<IPython.core.display.Javascript object>"
            ],
            "application/javascript": [
              "\n",
              "    async function download(id, filename, size) {\n",
              "      if (!google.colab.kernel.accessAllowed) {\n",
              "        return;\n",
              "      }\n",
              "      const div = document.createElement('div');\n",
              "      const label = document.createElement('label');\n",
              "      label.textContent = `Downloading \"${filename}\": `;\n",
              "      div.appendChild(label);\n",
              "      const progress = document.createElement('progress');\n",
              "      progress.max = size;\n",
              "      div.appendChild(progress);\n",
              "      document.body.appendChild(div);\n",
              "\n",
              "      const buffers = [];\n",
              "      let downloaded = 0;\n",
              "\n",
              "      const channel = await google.colab.kernel.comms.open(id);\n",
              "      // Send a message to notify the kernel that we're ready.\n",
              "      channel.send({})\n",
              "\n",
              "      for await (const message of channel.messages) {\n",
              "        // Send a message to notify the kernel that we're ready.\n",
              "        channel.send({})\n",
              "        if (message.buffers) {\n",
              "          for (const buffer of message.buffers) {\n",
              "            buffers.push(buffer);\n",
              "            downloaded += buffer.byteLength;\n",
              "            progress.value = downloaded;\n",
              "          }\n",
              "        }\n",
              "      }\n",
              "      const blob = new Blob(buffers, {type: 'application/binary'});\n",
              "      const a = document.createElement('a');\n",
              "      a.href = window.URL.createObjectURL(blob);\n",
              "      a.download = filename;\n",
              "      div.appendChild(a);\n",
              "      a.click();\n",
              "      div.remove();\n",
              "    }\n",
              "  "
            ]
          },
          "metadata": {}
        },
        {
          "output_type": "display_data",
          "data": {
            "text/plain": [
              "<IPython.core.display.Javascript object>"
            ],
            "application/javascript": [
              "download(\"download_cfe24f23-60c6-476b-aa90-9270e2d4ae0b\", \"egypt_eda_report.html\", 8094593)"
            ]
          },
          "metadata": {}
        }
      ]
    },
    {
      "cell_type": "markdown",
      "source": [
        "# **🧮 Feature Selection**\n",
        "We choose relevant features for training the model.\n",
        "Target variable: price_Uber (you can change to other providers)."
      ],
      "metadata": {
        "id": "OVmBnqBKjwM4"
      }
    },
    {
      "cell_type": "code",
      "source": [
        "df = pd.read_csv(\"egypt_rides_synthetic_data.csv\")"
      ],
      "metadata": {
        "id": "y_NwWdbGPSOp"
      },
      "execution_count": 12,
      "outputs": []
    },
    {
      "cell_type": "code",
      "source": [
        "features = [\n",
        "    'distance_km',\n",
        "    'trip_duration_minutes',\n",
        "    'trip_hour',\n",
        "    'is_peak_hour'\n",
        "]\n",
        "target = 'price_UberX'"
      ],
      "metadata": {
        "id": "RCZdU9ViJ-YS"
      },
      "execution_count": 13,
      "outputs": []
    },
    {
      "cell_type": "code",
      "source": [
        "X = df[features]\n",
        "y = df[target]"
      ],
      "metadata": {
        "id": "k_mgC9g6PPbO"
      },
      "execution_count": 14,
      "outputs": []
    },
    {
      "cell_type": "code",
      "source": [
        "X_train, X_test, y_train, y_test = train_test_split(X, y, test_size=0.2, random_state=42)"
      ],
      "metadata": {
        "id": "JUaPVhRzSJbv"
      },
      "execution_count": 15,
      "outputs": []
    },
    {
      "cell_type": "markdown",
      "source": [
        "# **🤖 Train Multiple Models**\n",
        "We train and compare different machine learning algorithms:\n",
        "\n",
        "* Random Forest\n",
        "* Decision Tree\n",
        "* Linear Regression\n",
        "* XGBoost"
      ],
      "metadata": {
        "id": "fefoFPw_jzlv"
      }
    },
    {
      "cell_type": "code",
      "source": [
        "from sklearn.linear_model import LinearRegression\n",
        "from sklearn.tree import DecisionTreeRegressor\n",
        "from sklearn.ensemble import RandomForestRegressor\n",
        "from xgboost import XGBRegressor\n",
        "\n",
        "models = {\n",
        "    \"Linear Regression\": LinearRegression(),\n",
        "    \"Decision Tree\": DecisionTreeRegressor(random_state=42),\n",
        "    \"Random Forest\": RandomForestRegressor(random_state=42),\n",
        "    \"XGBoost\": XGBRegressor(random_state=42)\n",
        "}\n",
        "\n",
        "results = []\n",
        "for name, model in models.items():\n",
        "    model.fit(X_train, y_train)\n",
        "    y_pred = model.predict(X_test)\n",
        "\n",
        "    mae = mean_absolute_error(y_test, y_pred)\n",
        "    r2 = r2_score(y_test, y_pred)\n",
        "\n",
        "    results.append({\n",
        "        \"Model\": name,\n",
        "        \"MAE\": mae,\n",
        "        \"R2 Score\": r2\n",
        "    })"
      ],
      "metadata": {
        "id": "t08mH0RySPJz"
      },
      "execution_count": 16,
      "outputs": []
    },
    {
      "cell_type": "markdown",
      "source": [
        "# **📈 Model Evaluation**\n",
        "We visualize the performance (MAE and R²) of each model."
      ],
      "metadata": {
        "id": "yChAngQ6j_hv"
      }
    },
    {
      "cell_type": "code",
      "source": [
        "results_df = pd.DataFrame(results)\n",
        "\n",
        "results_df_sorted = results_df.sort_values(by=\"R2 Score\", ascending=False)\n",
        "\n",
        "print(\"Model Performance Comparison:\\n\")\n",
        "print(results_df_sorted.to_string(index=False))"
      ],
      "metadata": {
        "id": "Na3-IRKESS4h",
        "colab": {
          "base_uri": "https://localhost:8080/"
        },
        "outputId": "2831fd6c-f178-425f-a3da-09f59da46c3e"
      },
      "execution_count": 17,
      "outputs": [
        {
          "output_type": "stream",
          "name": "stdout",
          "text": [
            "Model Performance Comparison:\n",
            "\n",
            "            Model      MAE  R2 Score\n",
            "    Random Forest 0.012392  0.999998\n",
            "    Decision Tree 0.033546  0.999987\n",
            "Linear Regression 0.068251  0.999925\n",
            "          XGBoost 0.139789  0.999838\n"
          ]
        }
      ]
    },
    {
      "cell_type": "code",
      "source": [
        "sns.set(style=\"whitegrid\")\n",
        "colors = sns.color_palette(\"pastel\")\n",
        "\n",
        "plt.figure(figsize=(8, 5))\n",
        "mae_plot = sns.barplot(\n",
        "    data=results_df.sort_values(\"MAE\"),\n",
        "    x=\"Model\",\n",
        "    y=\"MAE\",\n",
        "    palette=colors\n",
        ")\n",
        "plt.title(\"MAE Comparison\", fontsize=13)\n",
        "plt.ylabel(\"Mean Absolute Error\")\n",
        "plt.xlabel(\"Model\")\n",
        "\n",
        "for p in mae_plot.patches:\n",
        "    mae_plot.annotate(f'{p.get_height():.4f}',\n",
        "                      (p.get_x() + p.get_width() / 2., p.get_height()),\n",
        "                      ha='center', va='bottom', fontsize=9)\n",
        "\n",
        "plt.tight_layout()\n",
        "plt.savefig(\"mae_comparison.png\", dpi=300)\n",
        "plt.show()"
      ],
      "metadata": {
        "id": "d4GiYxyASoWX",
        "colab": {
          "base_uri": "https://localhost:8080/",
          "height": 649
        },
        "outputId": "2f1dcde2-73a7-4855-a36a-bc44ec463b69"
      },
      "execution_count": 18,
      "outputs": [
        {
          "output_type": "stream",
          "name": "stderr",
          "text": [
            "/tmp/ipython-input-1710405326.py:5: FutureWarning: \n",
            "\n",
            "Passing `palette` without assigning `hue` is deprecated and will be removed in v0.14.0. Assign the `x` variable to `hue` and set `legend=False` for the same effect.\n",
            "\n",
            "  mae_plot = sns.barplot(\n",
            "/tmp/ipython-input-1710405326.py:5: UserWarning: The palette list has more values (10) than needed (4), which may not be intended.\n",
            "  mae_plot = sns.barplot(\n"
          ]
        },
        {
          "output_type": "display_data",
          "data": {
            "text/plain": [
              "<Figure size 800x500 with 1 Axes>"
            ],
            "image/png": "[encoded data removed]"
          },
          "metadata": {}
        }
      ]
    },
    {
      "cell_type": "code",
      "source": [
        "plt.figure(figsize=(8, 5))\n",
        "r2_plot = sns.barplot(\n",
        "    data=results_df.sort_values(\"R2 Score\", ascending=False),\n",
        "    x=\"Model\",\n",
        "    y=\"R2 Score\",\n",
        "    palette=colors\n",
        ")\n",
        "plt.title(\"R² Score Comparison\", fontsize=13)\n",
        "plt.ylabel(\"R² Score\")\n",
        "plt.xlabel(\"Model\")\n",
        "plt.ylim(0.99985, 1.00001)\n",
        "\n",
        "for p in r2_plot.patches:\n",
        "    r2_plot.annotate(f'{p.get_height():.6f}',\n",
        "                     (p.get_x() + p.get_width() / 2., p.get_height()),\n",
        "                     ha='center', va='bottom', fontsize=9)\n",
        "\n",
        "plt.tight_layout()\n",
        "plt.savefig(\"r2_score_comparison.png\", dpi=300)\n",
        "plt.show()"
      ],
      "metadata": {
        "id": "SYo5OzoUWwml",
        "colab": {
          "base_uri": "https://localhost:8080/",
          "height": 649
        },
        "outputId": "1d39e32a-2471-4f4a-96ff-1ffaaf1cda01"
      },
      "execution_count": 19,
      "outputs": [
        {
          "output_type": "stream",
          "name": "stderr",
          "text": [
            "/tmp/ipython-input-1967656609.py:2: FutureWarning: \n",
            "\n",
            "Passing `palette` without assigning `hue` is deprecated and will be removed in v0.14.0. Assign the `x` variable to `hue` and set `legend=False` for the same effect.\n",
            "\n",
            "  r2_plot = sns.barplot(\n",
            "/tmp/ipython-input-1967656609.py:2: UserWarning: The palette list has more values (10) than needed (4), which may not be intended.\n",
            "  r2_plot = sns.barplot(\n"
          ]
        },
        {
          "output_type": "display_data",
          "data": {
            "text/plain": [
              "<Figure size 800x500 with 1 Axes>"
            ],
            "image/png": "[encoded data removed]"
          },
          "metadata": {}
        }
      ]
    },
    {
      "cell_type": "markdown",
      "source": [
        "# **💾 Save the Best Model**\n",
        "Based on evaluation metrics, we select the Random Forest model as the best and save it for deployment."
      ],
      "metadata": {
        "id": "l61suFK5kDLg"
      }
    },
    {
      "cell_type": "code",
      "source": [
        "\"\"\"import joblib\n",
        "best_model = models[\"Random Forest\"]\n",
        "joblib.dump(best_model, \"model.pkl\")\n",
        "print(\"saved successfully\")\"\"\""
      ],
      "metadata": {
        "id": "cLinnorkW6Ec",
        "colab": {
          "base_uri": "https://localhost:8080/",
          "height": 36
        },
        "outputId": "d97b655c-40b9-4c20-acab-a152902bdd21"
      },
      "execution_count": 20,
      "outputs": [
        {
          "output_type": "execute_result",
          "data": {
            "text/plain": [
              "'import joblib\\nbest_model = models[\"Random Forest\"]\\njoblib.dump(best_model, \"model.pkl\")\\nprint(\"saved successfully\")'"
            ],
            "application/vnd.google.colaboratory.intrinsic+json": {
              "type": "string"
            }
          },
          "metadata": {},
          "execution_count": 20
        }
      ]
    },
    {
      "cell_type": "code",
      "source": [
        "\"\"\"from google.colab import files\n",
        "files.download(\"model.pkl\")\"\"\""
      ],
      "metadata": {
        "id": "WnilDyufYIZ8",
        "colab": {
          "base_uri": "https://localhost:8080/",
          "height": 36
        },
        "outputId": "d8f7760f-6690-459f-857c-a5fe4b86ae94"
      },
      "execution_count": 21,
      "outputs": [
        {
          "output_type": "execute_result",
          "data": {
            "text/plain": [
              "'from google.colab import files\\nfiles.download(\"model.pkl\")'"
            ],
            "application/vnd.google.colaboratory.intrinsic+json": {
              "type": "string"
            }
          },
          "metadata": {},
          "execution_count": 21
        }
      ]
    },
    {
      "cell_type": "markdown",
      "source": [
        "# **✅ Conclusion**\n",
        "The Random Forest model achieved the lowest MAE (≈ 0.0136) and highest R² (≈ 0.99999).\n",
        "\n",
        "This model is highly accurate for predicting Uber fares in Egypt.\n",
        "The same approach can be extended to Careem and InDrive pricing models.\n",
        "Future work:\n",
        "\n",
        "Integrate real-time traffic and weather data.\n",
        "Expand city coverage.\n",
        "Deploy with an interactive Streamlit UI."
      ],
      "metadata": {
        "id": "j-NFHrJ6kF4_"
      }
    }
  ]
}